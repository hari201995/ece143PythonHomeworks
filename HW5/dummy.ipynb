{
 "cells": [
  {
   "cell_type": "code",
   "execution_count": 5,
   "metadata": {},
   "outputs": [
    {
     "data": {
      "image/png": "[encoded data removed]",
      "text/plain": [
       "<Figure size 640x480 with 9 Axes>"
      ]
     },
     "metadata": {},
     "output_type": "display_data"
    }
   ],
   "source": [
    "import numpy as np\n",
    "import itertools as iTools\n",
    "import random\n",
    "from matplotlib.pylab import subplots, cm\n",
    "def gen_rand_slash(m=6,n=6,direction='back'):\n",
    "    '''To debug an image processing algorithm, you have to generate a \n",
    "    large number of exemplar training images that consist of such Numpy arrays.\n",
    "    :m param: Int\n",
    "    :n param: int\n",
    "    :direction param: string\n",
    "    '''\n",
    "    assert type(m)==int and type(n)==int and type(direction)==str,'wrong m,n'\n",
    "    assert m>=2 and n>=2,'wrong range of m,n'\n",
    "    assert direction=='back' or direction=='forward','wrong direction input'\n",
    "\n",
    "    matrix = np.zeros((m,n),dtype='int')\n",
    "    mAxisStart = random.randint(1,m-1)\n",
    "    nAxisStart = random.randint(1,n-1)\n",
    "    maxInMDir = m-mAxisStart\n",
    "    maxInNDir = n-nAxisStart\n",
    "    stopInd = min(maxInMDir,maxInNDir)\n",
    "    mPosStop =  mAxisStart + random.randint(1,stopInd)\n",
    "    nPosStop =  nAxisStart + random.randint(1,stopInd)\n",
    "    mInd = list(range(mAxisStart,mPosStop+1,1))\n",
    "    nInd = list(range(nAxisStart,nPosStop+1,1))\n",
    "    \n",
    "    if len(mInd)>len(nInd):\n",
    "        mInd = mInd[:len(nInd)]\n",
    "    elif len(nInd)>len(mInd):\n",
    "        nInd = nInd[:len(mInd)]\n",
    "    \n",
    "    points = list(map(list,zip(mInd,nInd)))\n",
    "    offset = np.array([1,1])\n",
    "    modPoints =np.array([list((np.array(elem)-offset).T) for elem in points])\n",
    "    for elem in modPoints:\n",
    "        matrix[elem[0],elem[1]]=1\n",
    "    if(direction=='forward'):\n",
    "        return matrix\n",
    "    else:\n",
    "        return np.fliplr(matrix)\n",
    "    \n",
    "\n",
    "\n",
    "if __name__=='__main__':\n",
    "    fig,axs=subplots(3,3,sharex=True,sharey=True)\n",
    "    for ax in axs.flatten():\n",
    "        ax.imshow(gen_rand_slash(10,8,'back'),cmap=cm.gray_r)\n"
   ]
  }
 ],
 "metadata": {
  "kernelspec": {
   "display_name": "base",
   "language": "python",
   "name": "python3"
  },
  "language_info": {
   "codemirror_mode": {
    "name": "ipython",
    "version": 3
   },
   "file_extension": ".py",
   "mimetype": "text/x-python",
   "name": "python",
   "nbconvert_exporter": "python",
   "pygments_lexer": "ipython3",
   "version": "3.9.13"
  },
  "orig_nbformat": 4,
  "vscode": {
   "interpreter": {
    "hash": "fa3291587bab9da15c35bc9608910317c0081500413df860130874acbdd39025"
   }
  }
 },
 "nbformat": 4,
 "nbformat_minor": 2
}
