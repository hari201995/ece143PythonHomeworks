{
 "cells": [
  {
   "cell_type": "code",
   "execution_count": 37,
   "metadata": {},
   "outputs": [],
   "source": [
    "import pandas as pd\n",
    "import collections"
   ]
  },
  {
   "cell_type": "code",
   "execution_count": 38,
   "metadata": {},
   "outputs": [],
   "source": [
    "def add_month_yr():\n",
    "    data = pd.read_csv(r'C:\\Hari\\Q5_books\\143\\HW7\\survey_data.csv')\n",
    "    timeStamp = data['Timestamp']\n",
    "    dateOnly = pd.to_datetime(timeStamp).dt.date\n",
    "    dateOnly = dateOnly.apply(lambda x: x.strftime('%b-%Y'))\n",
    "    data['month-yr'] = dateOnly\n",
    "    data['month-yr']=data['month-yr'].astype(str)\n",
    "    return data"
   ]
  },
  {
   "cell_type": "code",
   "execution_count": 60,
   "metadata": {},
   "outputs": [],
   "source": [
    "def count_month_yr():\n",
    "    data = add_month_yr()\n",
    "    extractedData = data['month-yr'].to_list()\n",
    "    dateDict = dict(collections.Counter(extractedData))\n",
    "    result = pd.DataFrame.from_dict(dateDict, orient='index', columns=['Timestamp'])\n",
    "    result.index.name = 'month-yr'\n",
    "    print(result)\n",
    "\n"
   ]
  },
  {
   "cell_type": "code",
   "execution_count": 66,
   "metadata": {},
   "outputs": [],
   "source": [
    "def fix_categorical():\n",
    "    data = add_month_yr()\n",
    "    extractedData = data['month-yr'].to_list()\n",
    "    dateList = list(collections.Counter(extractedData))\n",
    "    print(dateList)\n",
    "    catDataType = pd.CategoricalDtype(categories=dateList, ordered=True)\n",
    "    data['month-yr'] = data['month-yr'].astype(catDataType)\n",
    "    print(type(data['month-yr']))\n",
    "    return data"
   ]
  },
  {
   "cell_type": "code",
   "execution_count": 67,
   "metadata": {},
   "outputs": [
    {
     "name": "stdout",
     "output_type": "stream",
     "text": [
      "['Sep-2017', 'Jan-2018', 'Feb-2018', 'Mar-2018', 'Apr-2018', 'Sep-2018', 'Oct-2018', 'Jan-2019']\n",
      "<class 'pandas.core.series.Series'>\n"
     ]
    },
    {
     "data": {
      "text/html": [
       "<div>\n",
       "<style scoped>\n",
       "    .dataframe tbody tr th:only-of-type {\n",
       "        vertical-align: middle;\n",
       "    }\n",
       "\n",
       "    .dataframe tbody tr th {\n",
       "        vertical-align: top;\n",
       "    }\n",
       "\n",
       "    .dataframe thead th {\n",
       "        text-align: right;\n",
       "    }\n",
       "</style>\n",
       "<table border=\"1\" class=\"dataframe\">\n",
       "  <thead>\n",
       "    <tr style=\"text-align: right;\">\n",
       "      <th></th>\n",
       "      <th>Timestamp</th>\n",
       "    </tr>\n",
       "    <tr>\n",
       "      <th>month-yr</th>\n",
       "      <th></th>\n",
       "    </tr>\n",
       "  </thead>\n",
       "  <tbody>\n",
       "    <tr>\n",
       "      <th>Apr-2018</th>\n",
       "      <td>28</td>\n",
       "    </tr>\n",
       "    <tr>\n",
       "      <th>Feb-2018</th>\n",
       "      <td>2</td>\n",
       "    </tr>\n",
       "    <tr>\n",
       "      <th>Jan-2018</th>\n",
       "      <td>148</td>\n",
       "    </tr>\n",
       "    <tr>\n",
       "      <th>Jan-2019</th>\n",
       "      <td>57</td>\n",
       "    </tr>\n",
       "    <tr>\n",
       "      <th>Mar-2018</th>\n",
       "      <td>41</td>\n",
       "    </tr>\n",
       "    <tr>\n",
       "      <th>Oct-2018</th>\n",
       "      <td>6</td>\n",
       "    </tr>\n",
       "    <tr>\n",
       "      <th>Sep-2017</th>\n",
       "      <td>74</td>\n",
       "    </tr>\n",
       "    <tr>\n",
       "      <th>Sep-2018</th>\n",
       "      <td>130</td>\n",
       "    </tr>\n",
       "  </tbody>\n",
       "</table>\n",
       "</div>"
      ],
      "text/plain": [
       "          Timestamp\n",
       "month-yr           \n",
       "Apr-2018         28\n",
       "Feb-2018          2\n",
       "Jan-2018        148\n",
       "Jan-2019         57\n",
       "Mar-2018         41\n",
       "Oct-2018          6\n",
       "Sep-2017         74\n",
       "Sep-2018        130"
      ]
     },
     "execution_count": 67,
     "metadata": {},
     "output_type": "execute_result"
    }
   ],
   "source": [
    "x = fix_categorical()\n",
    "x.groupby('month-yr')['Timestamp'].count().to_frame().sort_index() "
   ]
  }
 ],
 "metadata": {
  "kernelspec": {
   "display_name": "base",
   "language": "python",
   "name": "python3"
  },
  "language_info": {
   "codemirror_mode": {
    "name": "ipython",
    "version": 3
   },
   "file_extension": ".py",
   "mimetype": "text/x-python",
   "name": "python",
   "nbconvert_exporter": "python",
   "pygments_lexer": "ipython3",
   "version": "3.9.13"
  },
  "orig_nbformat": 4
 },
 "nbformat": 4,
 "nbformat_minor": 2
}
